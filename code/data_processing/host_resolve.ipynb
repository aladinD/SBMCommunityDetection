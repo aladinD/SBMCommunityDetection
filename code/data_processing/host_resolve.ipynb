{
 "metadata": {
  "language_info": {
   "codemirror_mode": {
    "name": "ipython",
    "version": 3
   },
   "file_extension": ".py",
   "mimetype": "text/x-python",
   "name": "python",
   "nbconvert_exporter": "python",
   "pygments_lexer": "ipython3",
   "version": "3.6.9"
  },
  "orig_nbformat": 2,
  "kernelspec": {
   "name": "python369jvsc74a57bd031f2aee4e71d21fbe5cf8b01ff0e069b9275f58929596ceb00d14d90e3e16cd6",
   "display_name": "Python 3.6.9 64-bit"
  },
  "metadata": {
   "interpreter": {
    "hash": "31f2aee4e71d21fbe5cf8b01ff0e069b9275f58929596ceb00d14d90e3e16cd6"
   }
  }
 },
 "nbformat": 4,
 "nbformat_minor": 2,
 "cells": [
  {
   "cell_type": "code",
   "execution_count": 1,
   "metadata": {},
   "outputs": [],
   "source": [
    "import os\n",
    "import sys\n",
    "import subprocess\n",
    "import scipy\n",
    "import pandas as pd\n",
    "import numpy as np\n",
    "import glob\n",
    "from typing import List\n",
    "import datetime\n",
    "import h5py\n",
    "import networkx as nx\n",
    "import matplotlib.pyplot as plt\n",
    "import matplotlib as mpl\n",
    "import socket\n",
    "from shutil import copyfile\n",
    "from contextlib import contextmanager\n",
    "import matplotlib.ticker as ticker\n",
    "import jax\n",
    "import jax.numpy as jnp\n",
    "import torch\n",
    "import collections\n",
    "import json\n",
    "from networkx.readwrite import json_graph"
   ]
  },
  {
   "cell_type": "code",
   "execution_count": 93,
   "metadata": {},
   "outputs": [
    {
     "output_type": "stream",
     "name": "stdout",
     "text": [
      "515\n"
     ]
    }
   ],
   "source": [
    "# Load CSV File\n",
    "dir = '/home/djuhera/DATA/host_files/lmt.ei.tum.de-ano.hosts.csv'\n",
    "df = pd.read_csv(dir)\n",
    "\n",
    "# Extract Column Values\n",
    "ip_col = df.columns[0]\n",
    "host_col = df.columns[1]\n",
    "\n",
    "# Define Dictionary\n",
    "ip_dict = {}\n",
    "ip_dict[ip_col] = host_col\n",
    "\n",
    "for i in range(len(df)):\n",
    "    ip = df.loc[i, ip_col]\n",
    "    host = df.loc[i, host_col]\n",
    "\n",
    "    ip_dict[ip] = host"
   ]
  },
  {
   "cell_type": "code",
   "execution_count": 96,
   "metadata": {
    "tags": [
     "outputPrepend"
    ]
   },
   "outputs": [
    {
     "output_type": "stream",
     "name": "stdout",
     "text": [
      "52.13.75': 'tueilmt-realtim.lmt.ei.tum.de', '10.152.13.74': 'tueilmt-rick.lmt.ei.tum.de', '10.152.4.123': 'tueilmt-roffice.lmt.ei.tum.de', '10.152.4.152': 'tueilmt-rovi12.lmt.ei.tum.de', '10.152.13.78': 'tueilmt-service.lmt.ei.tum.de', '10.152.13.17': 'tueilmt-simgpu.lmt.ei.tum.de', '10.152.4.129': 'tueilmt-snoopy.lmt.ei.tum.de', '10.152.4.36': 'tueilmt-steve.lmt.ei.tum.de', '10.152.13.38': 'tueilmt-stud01.lmt.ei.tum.de', '10.152.13.187': 'tueilmt-stud02.lmt.ei.tum.de', '10.152.13.36': 'tueilmt-stuhd1.lmt.ei.tum.de', '10.152.13.76': 'tueilmt-tilfpgb.lmt.ei.tum.de', '10.152.13.77': 'tueilmt-tilhigh.lmt.ei.tum.de', '10.152.13.90': 'tueilmt-tipc2.lmt.ei.tum.de', '10.152.13.198': 'tueilmt-tx1.lmt.ei.tum.de', '10.152.13.83': 'tueilmt-vidserv.lmt.ei.tum.de', '10.152.4.19': 'tueilmt-vipe1.lmt.ei.tum.de', '10.152.4.58': 'tueilmt-vipelp.lmt.ei.tum.de', '129.187.223.16': 'tueilmt-vipessh.lmt.ei.tum.de', '10.152.4.97': 'tueilmt-wvipe.lmt.ei.tum.de', '10.152.4.98': 'mitarbeiter118.lmt.ei.tum.de', '10.152.4.140': 'tueirsi-mia-044.lmt.ei.tum.de', '129.187.223.135': 'uebi.lmt.ei.tum.de', '10.152.4.65': 'uebi-projector.lmt.ei.tum.de', '2001:4CA0:2203:2:E49A:55FF:FE16:EFBB': 'vipe.lmt.ei.tum.de', '129.187.223.13': 'vipe.lmt.ei.tum.de', '10.152.4.66': 'zafarpc.lmt.ei.tum.de', '10.152.13.12': 'ab-1963-bgp.lkn.ei.tum.de', '129.187.223.136': 'aethra.lkn.ei.tum.de', '10.152.4.191': 'mitarbeiter3-ThinkPad-X390.lkn.ei.tum.de', '10.162.139.108': 'argus.lkn.ei.tum.de', '10.152.4.75': 'arwen.lkn.ei.tum.de', '2001:4CA0:2203:2:E0AF:A2FF:FEA7:295E': 'asterisk.lkn.ei.tum.de', '129.187.223.12': 'asterisk.lkn.ei.tum.de', '2001:4CA0:2203:0:222:4DFF:FE66:D714': 'cerberus.lkn.ei.tum.de', '129.187.45.130': 'atlantis.lkn.ei.tum.de', '10.152.4.228': 'beamer-1967.lkn.ei.tum.de', '10.152.13.30': 'bp10.lkn.ei.tum.de', '10.152.13.31': 'bp11.lkn.ei.tum.de', '10.152.13.32': 'bp12.lkn.ei.tum.de', '10.152.13.21': 'bp1.lkn.ei.tum.de', '10.152.13.22': 'bp2.lkn.ei.tum.de', '10.152.13.23': 'bp3.lkn.ei.tum.de', '10.152.13.24': 'bp4.lkn.ei.tum.de', '10.152.13.25': 'bp5.lkn.ei.tum.de', '10.152.13.26': 'bp6.lkn.ei.tum.de', '10.152.13.27': 'bp7.lkn.ei.tum.de', '10.152.13.28': 'bp8.lkn.ei.tum.de', '10.152.13.29': 'bp9.lkn.ei.tum.de', '10.152.4.11': 'cerberus.lkn.ei.tum.de', '129.187.223.20': 'chat.lkn.ei.tum.de', '2001:4CA0:2203:2:907C:33FF:FEC4:E45E': 'chat.lkn.ei.tum.de', '10.152.4.254': 'csrkbz.lkn.ei.tum.de', '10.152.4.179': 'dhcp04.lkn.ei.tum.de', '10.152.4.180': 'dhcp05.lkn.ei.tum.de', '10.152.4.186': 'dhcp11.lkn.ei.tum.de', '10.152.4.188': 'dhcp13.lkn.ei.tum.de', '10.152.4.190': 'dhcp15.lkn.ei.tum.de', '10.152.13.231': 'doorcontrol1.lkn.ei.tum.de', '10.152.13.232': 'doorcontrol2.lkn.ei.tum.de', '10.152.13.233': 'doorcontrol3.lkn.ei.tum.de', '10.152.4.235': 'fritzbox.lkn.ei.tum.de', '10.152.13.239': 'i4boot.lkn.ei.tum.de', '10.152.13.35': 'i4-controller.lkn.ei.tum.de', '10.152.13.241': 'i4fpga.lkn.ei.tum.de', '129.187.223.111': 'ikgroup1.lkn.ei.tum.de', '129.187.223.112': 'ikgroup2.lkn.ei.tum.de', '129.187.223.113': 'ikgroup3.lkn.ei.tum.de', '129.187.223.114': 'ikgroup4.lkn.ei.tum.de', '129.187.223.115': 'ikgroup5.lkn.ei.tum.de', '129.187.223.116': 'ikgroup6.lkn.ei.tum.de', '129.187.223.130': 'ik.lkn.ei.tum.de', '10.162.139.231': 'ipmi-erc01.lkn.ei.tum.de', '10.162.139.232': 'ipmi-erc02.lkn.ei.tum.de', '10.162.139.233': 'ipmi-erc03.lkn.ei.tum.de', '10.162.139.221': 'ipmi-skynet1.lkn.ei.tum.de', '10.162.139.234': 'ipmi-studs01.lkn.ei.tum.de', '10.162.139.235': 'ipmi-swcs01.lkn.ei.tum.de', '129.187.223.129': 'iptel-mm.lkn.ei.tum.de', '2001:4CA0:2203:2:649D:5CFF:FEF1:A17E': 'itg.lkn.ei.tum.de', '129.187.223.8': 'itg.lkn.ei.tum.de', '10.152.4.78': 'mitarbeiter3.lkn.ei.tum.de', '10.152.4.79': 'jvm-experiments.lkn.ei.tum.de', '10.152.4.156': 'LITTLEFOX.lkn.ei.tum.de', '10.152.4.245': 'lj1320.lkn.ei.tum.de', '10.152.4.246': 'lj1320n.lkn.ei.tum.de', '10.152.4.242': 'lj2430.lkn.ei.tum.de', '10.152.4.241': 'lj3015.lkn.ei.tum.de', '10.152.4.237': 'lj4005.lkn.ei.tum.de', '10.152.13.243': 'lj4050.lkn.ei.tum.de', '10.152.4.247': 'lj4051.lkn.ei.tum.de', '129.187.254.81': 'lkn.ei.tum.de', '2001:4CA0:0:103:0:80:2:5': 'lkn.ei.tum.de', '10.162.252.1': 'lkn-nas.lkn.ei.tum.de', '10.152.13.185': 'maxst-optiplex-9020.lkn.ei.tum.de', '2001:4CA0:2203:2:7C09:26FF:FE7F:2BFA': 'mlkuvs.lkn.ei.tum.de', '129.187.223.18': 'mlkuvs.lkn.ei.tum.de', '10.152.4.15': 'monitoring-agent.lkn.ei.tum.de', '10.152.4.126': 'mitarbeiter18.lkn.ei.tum.de', '10.162.148.8': 'nas.mgmt.lkn.ei.tum.de', '10.162.252.5': 'nas-pmx.lkn.ei.tum.de', '129.187.45.131': 'nat.lkn.ei.tum.de', '10.152.13.250': 'netapp.lkn.ei.tum.de', '10.152.13.186': 'onos-optiplex-3010.lkn.ei.tum.de', '10.152.4.198': 'p4go.lkn.ei.tum.de', '10.152.4.239': 'pw77940.lkn.ei.tum.de', '10.152.4.240': 'pwe58650.lkn.ei.tum.de', '10.152.13.62': 'scale.lkn.ei.tum.de', '10.152.13.63': 'mitarbeiter5-StudentPC.lkn.ei.tum.de', '129.187.223.156': 'ssl-proxy.lkn.ei.tum.de', '2001:4CA0:2203:2:E403:2FFF:FE49:B3CB': 'ssl-proxy.lkn.ei.tum.de', '10.152.13.11': 'student-pc-vvd.lkn.ei.tum.de', '10.152.13.34': 'switch-bottom.lkn.ei.tum.de', '10.152.13.33': 'switch-top.lkn.ei.tum.de', '10.152.13.177': 'tilab2.lkn.ei.tum.de', '10.152.13.60': 'tl-wr710n.lkn.ei.tum.de', '10.152.13.79': 'tueiaip-stud02.lkn.ei.tum.de', '129.187.223.132': 'tueilkn-0406-1.lkn.ei.tum.de', '10.152.4.209': 'tueilkn-0406.lkn.ei.tum.de', '10.152.4.118': 'tueilkn-1932.lkn.ei.tum.de', '10.162.139.210': 'tueilkn-1945-sw01.lkn.ei.tum.de', '10.162.139.211': 'tueilkn-1945-sw02.lkn.ei.tum.de', '10.152.4.119': 'tueilkn-1946.lkn.ei.tum.de', '10.152.4.120': 'tueilkn-1967.lkn.ei.tum.de', '10.152.4.88': 'TUEILKN-1977.lkn.ei.tum.de', '10.152.13.66': 'tueilkn-5gcontroller.lkn.ei.tum.de', '10.152.4.83': 'tueilkn-alba.lkn.ei.tum.de', '10.152.4.137': 'mitarbeiter6.lkn.ei.tum.de', '10.152.4.128': 'mitarbeiter7.lkn.ei.tum.de', '10.152.4.106': 'mitarbeiter8.lkn.ei.tum.de', '10.152.4.107': 'tueilkn-amowin.lkn.ei.tum.de', '10.152.4.1': 'tueilkn-arak.lkn.ei.tum.de', '10.152.4.51': 'mitarbeiter9.lkn.ei.tum.de', '10.152.4.167': 'tueilkn-friday.lkn.ei.tum.de', '10.162.148.3': 'tueilkn-bigdata.lkn.ei.tum.de', '10.152.4.70': 'tueilkn-blackix.lkn.ei.tum.de', '10.162.139.201': 'tueilkn-bsmsw01.lkn.ei.tum.de', '10.162.139.202': 'tueilkn-bsmsw02.lkn.ei.tum.de', '10.152.13.247': 'tueilkn-cafser.lkn.ei.tum.de', '10.152.13.91': 'tueilkn-dmpls.lkn.ei.tum.de', '10.152.13.200': 'tueilkn-dvo.lkn.ei.tum.de', '10.152.13.69': 'tueilkn-enb2.lkn.ei.tum.de', '10.152.4.81': 'mitarbeiter11.lkn.ei.tum.de', '10.162.139.31': 'tueilkn-erc01.lkn.ei.tum.de', '10.162.139.32': 'tueilkn-erc02.lkn.ei.tum.de', '10.162.139.33': 'tueilkn-erc03.lkn.ei.tum.de', '10.152.4.49': 'mitarbeiter12.lkn.ei.tum.de', '10.152.4.13': 'tueilkn-fusel.lkn.ei.tum.de', '10.152.4.54': 'mitarbeiter13.lkn.ei.tum.de', '10.152.4.68': 'mitarbeiter14.lkn.ei.tum.de', '10.152.4.82': 'mitarbeiter15.lkn.ei.tum.de', '10.152.4.146': 'tueilkn-guest01.lkn.ei.tum.de', '10.152.4.147': 'tueilkn-guest02.lkn.ei.tum.de', '10.152.4.44': 'tueilkn-huesca.lkn.ei.tum.de', '10.152.4.227': 'tueilkn-ismael.lkn.ei.tum.de', '10.152.4.103': 'mitarbeiter16.lkn.ei.tum.de', '10.152.4.71': 'tueilkn-kasperl.lkn.ei.tum.de', '2001:4CA0:2203:2:2E0:81FF:FE47:A9D0': 'tueilkn-king.lkn.ei.tum.de', '129.187.223.133': 'tueilkn-king.lkn.ei.tum.de', '10.152.13.171': 'tueilkn-labkn10.lkn.ei.tum.de', '10.152.13.172': 'tueilkn-labkn11.lkn.ei.tum.de', '10.152.13.173': 'tueilkn-labkn12.lkn.ei.tum.de', '10.152.13.174': 'tueilkn-labkn04.lkn.ei.tum.de', '10.152.13.118': 'tueilkn-stud18.lkn.ei.tum.de', '10.152.4.77': 'tueilkn-merkur.lkn.ei.tum.de', '10.152.4.175': 'tueilkn-ms.lkn.ei.tum.de', '10.152.4.34': 'tueilkn-saquib.lkn.ei.tum.de', '10.152.13.43': 'tueilkn-ncs-1.lkn.ei.tum.de', '10.152.13.44': 'tueilkn-ncs-2.lkn.ei.tum.de', '10.152.13.45': 'tueilkn-ncs-5.lkn.ei.tum.de', '10.152.13.46': 'tueilkn-ncs-6.lkn.ei.tum.de', '10.152.4.138': 'mitarbeiter17.lkn.ei.tum.de', '10.152.13.67': 'tueilkn-oaienb.lkn.ei.tum.de', '10.152.13.65': 'tueilkn-oaiepc.lkn.ei.tum.de', '10.152.13.68': 'tueilkn-oai-test.lkn.ei.tum.de', '10.152.13.64': 'tueilkn-oaiue.lkn.ei.tum.de', '10.152.4.40': 'tueilkn-oawin.lkn.ei.tum.de', '10.152.4.127': 'tueilkn-oayan.lkn.ei.tum.de', '10.152.13.203': 'tueilkn-p4-1.lkn.ei.tum.de', '10.152.13.204': 'tueilkn-p4-2.lkn.ei.tum.de', '10.152.13.205': 'tueilkn-p4-3.lkn.ei.tum.de', '10.152.4.67': 'tueilkn-p4host.lkn.ei.tum.de', '10.152.4.89': 'mitarbeiter19.lkn.ei.tum.de', '10.152.13.100': 'tueilkn-puptest.lkn.ei.tum.de', '10.152.4.55': 'tueilkn-pvetest.lkn.ei.tum.de', '10.152.13.70': 'tueilkn-rancontroller.lkn.ei.tum.de', '10.152.4.53': 'mitarbeiter20.lkn.ei.tum.de', '10.152.4.130': 'tueilkn-scotch.lkn.ei.tum.de', '10.152.13.80': 'tueilkn-sdnlab5.lkn.ei.tum.de', '10.152.4.35': 'mitarbeiter21.lkn.ei.tum.de', '10.162.139.1': 'tueilkn-sf1.lkn.ei.tum.de', '10.162.139.2': 'tueilkn-sf2.lkn.ei.tum.de', '10.162.139.3': 'tueilkn-sf3.lkn.ei.tum.de', '10.162.139.21': 'tueilkn-skynet1.lkn.ei.tum.de', '10.152.4.87': 'tueilkn-sonny.lkn.ei.tum.de', '10.152.4.14': 'tueilkn-stblnet.lkn.ei.tum.de', '10.152.13.245': 'tueilkn-stream.lkn.ei.tum.de', '10.152.13.101': 'tueilkn-test6.lkn.ei.tum.de', '10.152.13.102': 'tueilkn-stud02.lkn.ei.tum.de', '10.152.13.103': 'tueilkn-stud03.lkn.ei.tum.de', '10.152.13.104': 'tueilkn-stud04.lkn.ei.tum.de', '10.152.13.105': 'tueilkn-stud05.lkn.ei.tum.de', '10.152.13.106': 'tueilkn-stud06.lkn.ei.tum.de', '10.152.13.107': 'tueilkn-stud07.lkn.ei.tum.de', '10.152.13.108': 'tueilkn-stud08.lkn.ei.tum.de', '10.152.13.109': 'tueilkn-stud09.lkn.ei.tum.de', '10.152.13.110': 'tueilkn-stud10.lkn.ei.tum.de', '10.152.13.111': 'tueilkn-stud11.lkn.ei.tum.de', '10.152.13.112': 'tueilkn-stud12.lkn.ei.tum.de', '10.152.13.113': 'tueilkn-stud13.lkn.ei.tum.de', '10.152.13.114': 'tueilkn-stud14.lkn.ei.tum.de', '10.152.13.115': 'tueilkn-stud15.lkn.ei.tum.de', '10.152.13.116': 'tueilkn-stud26.lkn.ei.tum.de', '10.152.13.117': 'tueilkn-stud17.lkn.ei.tum.de', '10.152.13.119': 'tueilkn-stud19.lkn.ei.tum.de', '10.152.13.121': 'tueilkn-stud21.lkn.ei.tum.de', '10.152.13.122': 'tueilkn-stud22.lkn.ei.tum.de', '10.152.13.123': 'tueilkn-stud23.lkn.ei.tum.de', '10.152.13.124': 'tueilkn-stud24.lkn.ei.tum.de', '10.152.13.125': 'tueilkn-stud25.lkn.ei.tum.de', '10.152.13.127': 'tueilkn-stud27.lkn.ei.tum.de', '10.152.13.128': 'tueilkn-stud28.lkn.ei.tum.de', '10.152.13.129': 'tueilkn-stud29.lkn.ei.tum.de', '10.152.13.130': 'tueilkn-stud30.lkn.ei.tum.de', '10.152.13.131': 'tueilkn-stud31.lkn.ei.tum.de', '10.152.13.132': 'tueilkn-stud32.lkn.ei.tum.de', '10.152.13.133': 'tueilkn-stud33.lkn.ei.tum.de', '10.152.13.134': 'tueilkn-stud34.lkn.ei.tum.de', '10.152.13.135': 'tueilkn-stud35.lkn.ei.tum.de', '10.152.13.136': 'tueilkn-stud36.lkn.ei.tum.de', '10.152.13.137': 'tueilkn-stud37.lkn.ei.tum.de', '10.152.13.138': 'tueilkn-stud38.lkn.ei.tum.de', '10.152.13.139': 'tueilkn-stud39.lkn.ei.tum.de', '10.152.13.140': 'tueilkn-stud40.lkn.ei.tum.de', '10.152.13.141': 'tueilkn-stud41.lkn.ei.tum.de', '10.152.13.142': 'tueilkn-stud42.lkn.ei.tum.de', '10.152.13.143': 'tueilkn-stud43.lkn.ei.tum.de', '10.152.13.145': 'tueilkn-stud45.lkn.ei.tum.de', '10.152.13.146': 'tueilkn-stud46.lkn.ei.tum.de', '10.152.13.147': 'tueilkn-stud47.lkn.ei.tum.de', '10.152.13.148': 'tueilkn-stud48.lkn.ei.tum.de', '10.152.13.149': 'tueilkn-stud49.lkn.ei.tum.de', '10.152.13.150': 'tueilkn-stud50.lkn.ei.tum.de', '10.152.13.151': 'tueilkn-stud51.lkn.ei.tum.de', '10.152.13.152': 'tueilkn-stud52.lkn.ei.tum.de', '10.152.13.153': 'tueilkn-stud53.lkn.ei.tum.de', '10.152.13.154': 'tueilkn-stud54.lkn.ei.tum.de', '10.152.13.155': 'tueilkn-stud55.lkn.ei.tum.de', '10.152.13.156': 'tueilkn-stud56.lkn.ei.tum.de', '10.152.13.157': 'tueilkn-stud57.lkn.ei.tum.de', '10.152.13.158': 'tueilkn-stud58.lkn.ei.tum.de', '10.152.13.159': 'tueilkn-stud59.lkn.ei.tum.de', '10.152.13.161': 'tueilkn-stud61.lkn.ei.tum.de', '10.152.13.162': 'tueilkn-stud62.lkn.ei.tum.de', '10.152.13.163': 'tueilkn-stud63.lkn.ei.tum.de', '10.152.13.164': 'tueilkn-stud64.lkn.ei.tum.de', '10.152.13.165': 'tueilkn-stud65.lkn.ei.tum.de', '10.152.13.192': 'tueilkn-stud92.lkn.ei.tum.de', '10.152.13.193': 'tueilkn-stud93.lkn.ei.tum.de', '10.152.13.194': 'tueilkn-stud94.lkn.ei.tum.de', '10.152.13.195': 'tueilkn-stud95.lkn.ei.tum.de', '10.162.139.34': 'tueilkn-studs01.lkn.ei.tum.de', '10.152.13.7': 'tueilkn-studvnf.lkn.ei.tum.de', '10.152.4.168': 'tueilkn-sunday.lkn.ei.tum.de', '10.162.139.35': 'tueilkn-swcs01.lkn.ei.tum.de', '10.152.4.85': 'mitarbeiter22.lkn.ei.tum.de', '10.152.4.86': 'mitarbeiter23.lkn.ei.tum.de', '10.152.13.71': 'tueilkn-tilab1.lkn.ei.tum.de', '10.152.13.72': 'tueilkn-tilab2.lkn.ei.tum.de', '10.152.13.73': 'tueilkn-tilab3.lkn.ei.tum.de', '10.152.13.88': 'tueilkn-tilab4.lkn.ei.tum.de', '10.152.13.81': 'tueilkn-var01.lkn.ei.tum.de', '10.152.4.41': 'tueilkn-vismael.lkn.ei.tum.de', '10.152.13.246': 'tv.lkn.ei.tum.de', '10.152.4.10': 'usv.lkn.ei.tum.de', '129.187.223.103': 'vlik03a.lkn.ei.tum.de', '129.187.223.10': 'zeus.lkn.ei.tum.de', '2001:4CA0:2203:2:B049:8CFF:FE7A:725E': 'zeus.lkn.ei.tum.de', '10.162.148.66': '1860.forschung.lkn.ei.tum.de', '10.162.149.182': 'ab-alga01.forschung.lkn.ei.tum.de', '10.162.148.20': 'ab-ands01.forschung.lkn.ei.tum.de', '10.162.149.221': 'ama-matlab.forschung.lkn.ei.tum.de', '10.162.149.104': 'ama-studmatlab1.forschung.lkn.ei.tum.de', '10.162.148.67': 'arsenal.forschung.lkn.ei.tum.de', '10.162.148.64': 'augsburg.forschung.lkn.ei.tum.de', '10.162.148.108': 'ballack.forschung.lkn.ei.tum.de', '10.162.148.124': 'erc-flextcp04.forschung.lkn.ei.tum.de', '10.162.148.82': 'chelsea.forschung.lkn.ei.tum.de', '10.162.149.248': 'click1.forschung.lkn.ei.tum.de', '10.162.149.113': 'click2.forschung.lkn.ei.tum.de', '10.162.148.112': 'daei.forschung.lkn.ei.tum.de', '10.162.148.129': 'jz-dhcpdeb.forschung.lkn.ei.tum.de', '10.162.149.102': 'dnet-db.forschung.lkn.ei.tum.de', '10.162.149.86': 'eg-k8s-hw-w1.forschung.lkn.ei.tum.de', '10.162.149.101': 'eg-k8s-hw-w2.forschung.lkn.ei.tum.de', '10.162.149.110': 'eg-k8s-hw-w3.forschung.lkn.ei.tum.de', '10.162.149.109': 'eg-k8s-hw-w4.forschung.lkn.ei.tum.de', '10.162.149.181': 'eg-k8s-hw-w5.forschung.lkn.ei.tum.de', '10.162.149.74': 'eg-k8s-hw-w6.forschung.lkn.ei.tum.de', '10.162.149.157': 'eg-k8s-hw-w7.forschung.lkn.ei.tum.de', '10.162.149.152': 'eg-k8s-hw-w8.forschung.lkn.ei.tum.de', '10.162.149.91': 'eg-k8s-hw-w9.forschung.lkn.ei.tum.de', '10.162.149.58': 'eg-k8s-w3.forschung.lkn.ei.tum.de', '10.162.149.139': 'eg-minipc-office.forschung.lkn.ei.tum.de', '10.162.149.62': 'eg-rs-m.forschung.lkn.ei.tum.de', '10.162.149.65': 'eg-rs-w1.forschung.lkn.ei.tum.de', '10.162.149.63': 'eg-rs-w2.forschung.lkn.ei.tum.de', '10.162.148.120': 'erc-flextcpmaster.forschung.lkn.ei.tum.de', '10.162.148.121': 'erc-flextcp01.forschung.lkn.ei.tum.de', '10.162.148.122': 'erc-flextcp02.forschung.lkn.ei.tum.de', '10.162.148.123': 'erc-flextcp03.forschung.lkn.ei.tum.de', '10.162.148.125': 'erc-flextcp05.forschung.lkn.ei.tum.de', '10.162.148.76': 'everton.forschung.lkn.ei.tum.de', '10.162.148.53': 'ferguson.forschung.lkn.ei.tum.de', '10.162.148.69': 'XorPlus.forschung.lkn.ei.tum.de', '10.162.148.105': 'gerrard.forschung.lkn.ei.tum.de', '10.162.149.36': 'gls.forschung.lkn.ei.tum.de', '10.162.148.55': 'guardiola.forschung.lkn.ei.tum.de', '10.162.148.101': 'hazard.forschung.lkn.ei.tum.de', '10.162.148.128': 'hennes.forschung.lkn.ei.tum.de', '10.162.148.50': 'heynckes.forschung.lkn.ei.tum.de', '10.162.149.223': 'hf-meas-ctrl.forschung.lkn.ei.tum.de', '10.162.149.188': 'hf-meas-hv.forschung.lkn.ei.tum.de', '10.162.149.134': 'hf-meas-sw.forschung.lkn.ei.tum.de', '10.162.149.187': 'horse-OptiPlex-9020.forschung.lkn.ei.tum.de', '10.162.148.65': 'huddersfield.forschung.lkn.ei.tum.de', '10.162.149.199': 'idrac-6GHDXJ2.forschung.lkn.ei.tum.de', '10.162.148.113': 'ipmi-ballack.forschung.lkn.ei.tum.de', '10.162.148.116': 'ipmi-daei.forschung.lkn.ei.tum.de', '10.162.148.114': 'ipmi-kahn.forschung.lkn.ei.tum.de', '10.162.148.115': 'ipmi-schweinsteiger.forschung.lkn.ei.tum.de', '10.162.149.175': 'jvm-database.forschung.lkn.ei.tum.de', '10.162.149.240': 'jvm-matlab4.forschung.lkn.ei.tum.de', '10.162.149.206': 'jz-bgp-worker01.forschung.lkn.ei.tum.de', '10.162.149.130': 'jz-ci-runner.forschung.lkn.ei.tum.de', '10.162.149.229': 'jz-flow-worker01.forschung.lkn.ei.tum.de', '10.162.149.61': 'jz-flow-worker02.forschung.lkn.ei.tum.de', '10.162.149.169': 'jz-k8s-node01.forschung.lkn.ei.tum.de', '10.162.149.159': 'jz-k8s-node02.forschung.lkn.ei.tum.de', '10.162.149.161': 'jz-k8s-node03.forschung.lkn.ei.tum.de', '10.162.148.109': 'kahn.forschung.lkn.ei.tum.de', '10.162.148.61': 'kaiserslautern.forschung.lkn.ei.tum.de', '10.162.148.104': 'kane.forschung.lkn.ei.tum.de', '10.162.148.100': 'klinsmann.forschung.lkn.ei.tum.de', '10.162.148.52': 'klopp.forschung.lkn.ei.tum.de', '10.162.148.106': 'klose.forschung.lkn.ei.tum.de', '10.162.148.68': 'koeln.forschung.lkn.ei.tum.de', '10.162.148.73': 'leeds.forschung.lkn.ei.tum.de', '10.162.148.74': 'leicester.forschung.lkn.ei.tum.de', '10.162.148.77': 'liverpool.forschung.lkn.ei.tum.de', '10.162.148.90': 'manunited.forschung.lkn.ei.tum.de', '10.162.148.2': 'lora.forschung.lkn.ei.tum.de', '10.162.148.78': 'mancity.forschung.lkn.ei.tum.de', '10.162.148.54': 'mitarbeiter1.forschung.lkn.ei.tum.de', '10.162.148.10': 'mitrovic.forschung.lkn.ei.tum.de', '10.162.148.71': 'newcastle.forschung.lkn.ei.tum.de', '10.162.149.10': 'tueilkn-p4host.forschung.lkn.ei.tum.de', '10.162.149.15': 'tueilkn-netfpga.forschung.lkn.ei.tum.de', '10.162.149.203': 'pk-comnav02.forschung.lkn.ei.tum.de', '10.162.149.208': 'pk-comnav10.forschung.lkn.ei.tum.de', '10.162.149.84': 'pk-kuma.forschung.lkn.ei.tum.de', '10.162.149.77': 'pk-swc01.forschung.lkn.ei.tum.de', '10.162.148.9': 'polatis-oxc.forschung.lkn.ei.tum.de', '10.162.148.250': 'pxe-server.forschung.lkn.ei.tum.de', '2001:4CA0:2203:4:219:99FF:FEBF:9166': 'px-staging01.forschung.lkn.ei.tum.de', '10.162.148.126': 'px-staging01.forschung.lkn.ei.tum.de', '2001:4CA0:2203:4:219:99FF:FEBB:B1B9': 'px-staging02.forschung.lkn.ei.tum.de', '10.162.148.127': 'px-staging02.forschung.lkn.ei.tum.de', '10.162.148.51': 'rehhagel.forschung.lkn.ei.tum.de', '10.162.148.102': 'rooney.forschung.lkn.ei.tum.de', '10.162.148.62': 'schalke.forschung.lkn.ei.tum.de', '10.162.148.103': 'scholes.forschung.lkn.ei.tum.de', '10.162.148.111': 'schweinsteiger.forschung.lkn.ei.tum.de', '10.162.148.49': 'southgate.forschung.lkn.ei.tum.de', '10.162.149.226': 'sz-matlab-ct.forschung.lkn.ei.tum.de', '10.162.148.81': 'tottenham.forschung.lkn.ei.tum.de', '10.162.148.140': 'ubuntu-server.forschung.lkn.ei.tum.de', '10.162.148.141': 'tueilkn-dgxs01.forschung.lkn.ei.tum.de', '10.162.149.16': 'tueilkn-docker.forschung.lkn.ei.tum.de', '10.162.149.106': 'mitarbeiter2.forschung.lkn.ei.tum.de', '10.162.149.129': 'tueilkn-eden.forschung.lkn.ei.tum.de', '10.162.148.31': 'tueilkn-erc01.forschung.lkn.ei.tum.de', '10.162.148.32': 'tueilkn-erc02.forschung.lkn.ei.tum.de', '10.162.148.33': 'tueilkn-erc03.forschung.lkn.ei.tum.de', '10.162.149.82': 'tueilkn-k8sw01.forschung.lkn.ei.tum.de', '10.162.149.83': 'tueilkn-k8sw02.forschung.lkn.ei.tum.de', '10.162.149.81': 'tueilkn-k8sw03.forschung.lkn.ei.tum.de', '10.162.149.17': 'tueilkn-mathem.forschung.lkn.ei.tum.de', '10.162.148.249': 'tueilkn-mumble.forschung.lkn.ei.tum.de', '10.162.149.6': 'tueilkn-pvetest.forschung.lkn.ei.tum.de', '10.162.149.51': 'tueilkn-romelu.forschung.lkn.ei.tum.de', '10.162.149.233': 'tueilkn-swc02.forschung.lkn.ei.tum.de', '10.162.149.76': 'tueilkn-swc03.forschung.lkn.ei.tum.de', '10.162.149.163': 'tueilkn-swc05.forschung.lkn.ei.tum.de', '10.162.149.162': 'tueilkn-swc06.forschung.lkn.ei.tum.de', '10.162.149.247': 'tueilkn-walle.forschung.lkn.ei.tum.de', '10.162.149.112': 'ubuntu18.forschung.lkn.ei.tum.de', '10.162.149.190': 'ubuntu-vm.forschung.lkn.ei.tum.de', '10.162.148.72': 'watford.forschung.lkn.ei.tum.de', '10.162.148.110': 'wembley.forschung.lkn.ei.tum.de', '10.162.148.75': 'westham.forschung.lkn.ei.tum.de', '10.162.148.63': 'wolfsburg.forschung.lkn.ei.tum.de'}\n"
     ]
    }
   ],
   "source": [
    "print(ip_dict)"
   ]
  },
  {
   "cell_type": "code",
   "execution_count": null,
   "metadata": {},
   "outputs": [],
   "source": []
  }
 ]
}