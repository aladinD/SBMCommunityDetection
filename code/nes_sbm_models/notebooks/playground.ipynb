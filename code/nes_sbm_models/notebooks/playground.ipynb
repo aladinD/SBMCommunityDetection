{
 "cells": [
  {
   "cell_type": "code",
   "execution_count": 1,
   "metadata": {
    "collapsed": true
   },
   "outputs": [],
   "source": [
    "import networkx as nx\n",
    "import torch\n",
    "import numpy as np\n",
    "import pandas as pd\n",
    "import matplotlib.pyplot as plt"
   ]
  },
  {
   "cell_type": "code",
   "execution_count": 4,
   "outputs": [],
   "source": [
    "def multiunsqueeze(t, dims):\n",
    "    if len(dims) == 0:\n",
    "        return t\n",
    "    else:\n",
    "        return multiunsqueeze(t.unsqueeze(dims[0]), dims[1:])"
   ],
   "metadata": {
    "collapsed": false,
    "pycharm": {
     "name": "#%%\n"
    }
   }
  },
  {
   "cell_type": "code",
   "execution_count": 5,
   "outputs": [],
   "source": [
    "edges = []\n",
    "for i in range(10):\n",
    "    for j in range(10):\n",
    "        if i == j:\n",
    "            continue\n",
    "        if i < 5 and j >= 5:\n",
    "            continue\n",
    "        if i >= 5 and j < 5:\n",
    "            continue\n",
    "        edges.append([i, j, np.random.randint(1, 5)])\n",
    "edges.append([5, 4, np.random.randint(1, 5)])\n",
    "edges.append([4, 5, np.random.randint(1, 5)])\n",
    "g = nx.DiGraph()\n",
    "g.add_edges_from([(l[0], l[1]) for l in edges])\n",
    "# g = nx.karate_club_graph()\n",
    "# edges = list(g.to_directed().edges())\n",
    "edges = torch.tensor(edges, requires_grad=False)"
   ],
   "metadata": {
    "collapsed": false,
    "pycharm": {
     "name": "#%%\n"
    }
   }
  },
  {
   "cell_type": "code",
   "execution_count": 6,
   "outputs": [
    {
     "name": "stdout",
     "output_type": "stream",
     "text": [
      "hello\n"
     ]
    },
    {
     "data": {
      "text/plain": "tensor([[0, 0, 0, 2, 0, 0, 0, 0, 0, 0],\n        [0, 0, 1, 0, 2, 0, 0, 0, 0, 1],\n        [0, 0, 0, 2, 1, 2, 0, 1, 0, 0],\n        [0, 0, 0, 0, 1, 0, 2, 1, 0, 0],\n        [1, 0, 0, 1, 0, 1, 0, 0, 0, 2]])"
     },
     "execution_count": 6,
     "metadata": {},
     "output_type": "execute_result"
    }
   ],
   "source": [
    "k = 3\n",
    "assignments = torch.distributions.Categorical(logits=torch.randn(k)).sample([5, 10])\n",
    "print(\"hello\")\n",
    "assignments"
   ],
   "metadata": {
    "collapsed": false,
    "pycharm": {
     "name": "#%%\n"
    }
   }
  },
  {
   "cell_type": "code",
   "execution_count": 5,
   "outputs": [],
   "source": [
    "nnig = torch.sum(torch.nn.functional.one_hot(assignments), dim=-2)"
   ],
   "metadata": {
    "collapsed": false,
    "pycharm": {
     "name": "#%%\n"
    }
   }
  },
  {
   "cell_type": "code",
   "execution_count": 6,
   "outputs": [
    {
     "data": {
      "text/plain": "(torch.Size([5, 42]), torch.Size([5, 42]))"
     },
     "execution_count": 6,
     "metadata": {},
     "output_type": "execute_result"
    }
   ],
   "source": [
    "z_tail = assignments[:, edges[:, 0]]  # Replace node id of tail with its group: (S, |E|)\n",
    "z_head = assignments[:, edges[:, 1]]  # Replace node id of head with its group: (S, |E|)\n",
    "z_head.shape, z_tail.shape"
   ],
   "metadata": {
    "collapsed": false,
    "pycharm": {
     "name": "#%%\n"
    }
   }
  },
  {
   "cell_type": "code",
   "execution_count": 7,
   "outputs": [
    {
     "data": {
      "text/plain": "(torch.Size([5, 42, 1, 3]), torch.Size([5, 42, 3, 1]))"
     },
     "execution_count": 7,
     "metadata": {},
     "output_type": "execute_result"
    }
   ],
   "source": [
    "z_tail_one_hot = torch.unsqueeze(torch.nn.functional.one_hot(z_tail, k), -1).float()\n",
    "z_head_one_hot = torch.unsqueeze(torch.nn.functional.one_hot(z_head, k), -2).float()\n",
    "z_head_one_hot.shape, z_tail_one_hot.shape\n"
   ],
   "metadata": {
    "collapsed": false,
    "pycharm": {
     "name": "#%%\n"
    }
   }
  },
  {
   "cell_type": "code",
   "execution_count": 9,
   "outputs": [
    {
     "data": {
      "text/plain": "torch.Size([42, 1, 1, 1])"
     },
     "execution_count": 9,
     "metadata": {},
     "output_type": "execute_result"
    }
   ],
   "source": [
    "multiunsqueeze(edges[:, -1], [-1, -1, -1]).shape"
   ],
   "metadata": {
    "collapsed": false,
    "pycharm": {
     "name": "#%%\n"
    }
   }
  },
  {
   "cell_type": "code",
   "execution_count": 10,
   "outputs": [],
   "source": [
    "tmp =torch.matmul(z_tail_one_hot, z_head_one_hot) * multiunsqueeze(edges[:, -1], [-1, -1])\n",
    "num_edges_btw_groups = torch.sum(tmp, dim=-3)"
   ],
   "metadata": {
    "collapsed": false,
    "pycharm": {
     "name": "#%%\n"
    }
   }
  },
  {
   "cell_type": "code",
   "execution_count": 11,
   "outputs": [],
   "source": [
    "num_interactions = torch.matmul(nnig.unsqueeze(-1), nnig.unsqueeze(-2))"
   ],
   "metadata": {
    "collapsed": false,
    "pycharm": {
     "name": "#%%\n"
    }
   }
  },
  {
   "cell_type": "code",
   "execution_count": 12,
   "outputs": [
    {
     "data": {
      "text/plain": "tensor([[[0.9167, 1.5417,    nan],\n         [1.1667, 0.5625,    nan],\n         [   nan,    nan,    nan]],\n\n        [[1.0370, 1.4444,    nan],\n         [1.1111, 0.0000,    nan],\n         [   nan,    nan,    nan]],\n\n        [[0.9796, 1.2381,    nan],\n         [1.3810, 0.4444,    nan],\n         [   nan,    nan,    nan]],\n\n        [[1.0000, 1.5714, 0.5714],\n         [2.2857, 0.0000, 0.0000],\n         [1.1429, 0.0000, 1.7500]],\n\n        [[0.9844, 1.3125,    nan],\n         [1.4375, 0.0000,    nan],\n         [   nan,    nan,    nan]]])"
     },
     "execution_count": 12,
     "metadata": {},
     "output_type": "execute_result"
    }
   ],
   "source": [
    "num_edges_btw_groups / torch.clamp_min(num_interactions, 1e-6)"
   ],
   "metadata": {
    "collapsed": false,
    "pycharm": {
     "name": "#%%\n"
    }
   }
  },
  {
   "cell_type": "code",
   "execution_count": 3,
   "outputs": [
    {
     "data": {
      "text/plain": "tensor([[5., 2., 8., 4., 8., 0., 7., 2., 7., 8., 2., 3., 0., 0.],\n        [7., 0., 7., 8., 9., 5., 1., 4., 3., 5., 0., 4., 4., 1.],\n        [6., 9., 1., 2., 6., 3., 8., 2., 9., 1., 5., 5., 3., 3.],\n        [8., 4., 8., 0., 6., 5., 8., 2., 8., 7., 9., 1., 1., 9.],\n        [0., 7., 0., 7., 7., 0., 5., 0., 3., 5., 1., 4., 5., 3.],\n        [6., 5., 3., 6., 1., 1., 9., 3., 1., 8., 1., 3., 3., 7.],\n        [2., 5., 8., 1., 1., 8., 9., 5., 1., 1., 0., 0., 8., 4.],\n        [6., 1., 9., 2., 2., 5., 8., 2., 6., 2., 2., 8., 6., 0.],\n        [1., 8., 1., 5., 4., 5., 4., 7., 9., 5., 7., 6., 0., 5.],\n        [0., 3., 1., 9., 3., 2., 5., 6., 3., 1., 4., 2., 8., 0.],\n        [7., 2., 5., 7., 3., 4., 1., 9., 1., 4., 4., 8., 2., 4.],\n        [1., 6., 8., 9., 6., 9., 4., 0., 2., 4., 9., 6., 6., 7.],\n        [0., 6., 9., 1., 8., 7., 5., 8., 6., 9., 2., 3., 1., 0.],\n        [6., 9., 7., 1., 2., 2., 7., 2., 8., 0., 1., 8., 9., 6.]])"
     },
     "execution_count": 3,
     "metadata": {},
     "output_type": "execute_result"
    }
   ],
   "source": [
    "x = torch.randint(0, 10, [14, 14]).float()\n",
    "x"
   ],
   "metadata": {
    "collapsed": false,
    "pycharm": {
     "name": "#%%\n"
    }
   }
  },
  {
   "cell_type": "code",
   "execution_count": 5,
   "outputs": [
    {
     "data": {
      "text/plain": "tensor([[0.0362, 0.1163, 0.0041, 0.0597, 0.0041, 0.1452, 0.0095, 0.1163, 0.0095,\n         0.0041, 0.1163, 0.0881, 0.1452, 0.1452],\n        [0.0103, 0.1562, 0.0103, 0.0045, 0.0017, 0.0390, 0.1478, 0.0642, 0.0947,\n         0.0390, 0.1562, 0.0642, 0.0642, 0.1478],\n        [0.0221, 0.0018, 0.1542, 0.1306, 0.0221, 0.0989, 0.0047, 0.1306, 0.0018,\n         0.1542, 0.0407, 0.0407, 0.0989, 0.0989],\n        [0.0061, 0.0876, 0.0061, 0.2132, 0.0289, 0.0532, 0.0061, 0.1707, 0.0061,\n         0.0140, 0.0024, 0.2017, 0.2017, 0.0024],\n        [0.1331, 0.0087, 0.1331, 0.0087, 0.0087, 0.1331, 0.0332, 0.1331, 0.0807,\n         0.0332, 0.1259, 0.0547, 0.0332, 0.0807],\n        [0.0198, 0.0365, 0.0887, 0.0198, 0.1384, 0.1384, 0.0016, 0.0887, 0.1384,\n         0.0042, 0.1384, 0.0887, 0.0887, 0.0096],\n        [0.1055, 0.0328, 0.0038, 0.1246, 0.1246, 0.0038, 0.0015, 0.0328, 0.1246,\n         0.1246, 0.1317, 0.1317, 0.0038, 0.0542],\n        [0.0203, 0.1418, 0.0017, 0.1200, 0.1200, 0.0374, 0.0043, 0.1200, 0.0203,\n         0.1200, 0.1200, 0.0043, 0.0203, 0.1499],\n        [0.1885, 0.0057, 0.1885, 0.0497, 0.0819, 0.0497, 0.0819, 0.0131, 0.0022,\n         0.0497, 0.0131, 0.0270, 0.1993, 0.0497],\n        [0.1227, 0.0744, 0.1161, 0.0014, 0.0744, 0.0983, 0.0306, 0.0166, 0.0744,\n         0.1161, 0.0505, 0.0983, 0.0035, 0.1227],\n        [0.0107, 0.1299, 0.0404, 0.0107, 0.0984, 0.0667, 0.1534, 0.0018, 0.1534,\n         0.0667, 0.0667, 0.0046, 0.1299, 0.0667],\n        [0.2232, 0.0319, 0.0067, 0.0026, 0.0319, 0.0026, 0.0970, 0.2360, 0.1889,\n         0.0970, 0.0026, 0.0319, 0.0319, 0.0155],\n        [0.1677, 0.0227, 0.0019, 0.1586, 0.0048, 0.0110, 0.0418, 0.0048, 0.0227,\n         0.0019, 0.1343, 0.1017, 0.1586, 0.1677],\n        [0.0234, 0.0019, 0.0114, 0.1638, 0.1386, 0.1386, 0.0114, 0.1386, 0.0049,\n         0.1731, 0.1638, 0.0049, 0.0019, 0.0234]])"
     },
     "execution_count": 5,
     "metadata": {},
     "output_type": "execute_result"
    }
   ],
   "source": [
    "d = torch.distributions.Normal(torch.zeros(14), torch.ones(14) * 3)\n",
    "tmp = torch.exp(d.log_prob(x))\n",
    "tmp / torch.sum(tmp, dim=-1, keepdim=True)"
   ],
   "metadata": {
    "collapsed": false,
    "pycharm": {
     "name": "#%%\n"
    }
   }
  },
  {
   "cell_type": "code",
   "execution_count": 34,
   "outputs": [
    {
     "name": "stdout",
     "output_type": "stream",
     "text": [
      "torch.Size([3, 5, 5, 2])\n"
     ]
    },
    {
     "data": {
      "text/plain": "tensor([-0.1200, -0.2127])"
     },
     "execution_count": 34,
     "metadata": {},
     "output_type": "execute_result"
    }
   ],
   "source": [
    "i = 0\n",
    "j = 1\n",
    "x = torch.randn(3, 5, 2)\n",
    "tmp = x.unsqueeze(2) * x.unsqueeze(1)\n",
    "print(tmp.shape)\n",
    "tmp[0, i, j, ...]"
   ],
   "metadata": {
    "collapsed": false,
    "pycharm": {
     "name": "#%%\n"
    }
   }
  },
  {
   "cell_type": "code",
   "execution_count": 35,
   "outputs": [
    {
     "data": {
      "text/plain": "array([[-0.12002105, -0.2127365 ]], dtype=float32)"
     },
     "execution_count": 35,
     "metadata": {},
     "output_type": "execute_result"
    }
   ],
   "source": [
    "np.array([\n",
    "    [x[0, i, 0] * x[0, j, 0], x[0, i, 1] * x[0, j, 1]],\n",
    "])"
   ],
   "metadata": {
    "collapsed": false,
    "pycharm": {
     "name": "#%%\n"
    }
   }
  },
  {
   "cell_type": "code",
   "execution_count": 18,
   "outputs": [
    {
     "name": "stdout",
     "output_type": "stream",
     "text": [
      "-0.011\n"
     ]
    },
    {
     "data": {
      "text/plain": "[<matplotlib.lines.Line2D at 0x7f5578124290>]"
     },
     "execution_count": 18,
     "metadata": {},
     "output_type": "execute_result"
    },
    {
     "data": {
      "text/plain": "<Figure size 432x288 with 1 Axes>",
      "image/png": "[encoded data removed]"
     },
     "metadata": {
      "needs_background": "light"
     },
     "output_type": "display_data"
    }
   ],
   "source": [
    "ax = plt.subplot()\n",
    "num_iter = 100.\n",
    "fraction = 0.9\n",
    "target_scale = 0.01\n",
    "stop = num_iter * fraction\n",
    "\n",
    "m = (target_scale - 1.) / stop\n",
    "print(m)\n",
    "ax.plot(np.arange(100), np.clip(np.arange(100) * m + 1, target_scale, 1))\n"
   ],
   "metadata": {
    "collapsed": false,
    "pycharm": {
     "name": "#%%\n"
    }
   }
  },
  {
   "cell_type": "code",
   "execution_count": 12,
   "outputs": [
    {
     "data": {
      "text/plain": "{0: array([-0.01460818,  0.40473946]),\n 1: array([-0.06436423,  0.26865159]),\n 2: array([-0.15628947, -0.00870772]),\n 3: array([-0.22047697,  0.31936139]),\n 4: array([0.21302039, 0.68218242]),\n 5: array([0.26968004, 0.83445865]),\n 6: array([0.3600123 , 0.73612493]),\n 7: array([-0.30599004,  0.26147338]),\n 8: array([ 0.08030072, -0.05406208]),\n 9: array([-0.35968397, -0.23151199]),\n 10: array([0.09538218, 0.80892633]),\n 11: array([-0.18886245,  0.82984821]),\n 12: array([-0.36963777,  0.55474491]),\n 13: array([-0.02279513,  0.12145985]),\n 14: array([ 0.40231372, -0.35537424]),\n 15: array([ 0.38387447, -0.47774808]),\n 16: array([0.5216451, 1.       ]),\n 17: array([-0.19901323,  0.58174268]),\n 18: array([ 0.36110351, -0.59437158]),\n 19: array([0.00042951, 0.04733978]),\n 20: array([ 0.08748208, -0.61818179]),\n 21: array([-0.01992822,  0.58778742]),\n 22: array([ 0.25482547, -0.65744571]),\n 23: array([-0.14150499, -0.601966  ]),\n 24: array([-0.38609132, -0.58464402]),\n 25: array([-0.45353916, -0.52720993]),\n 26: array([ 0.13987786, -0.8447189 ]),\n 27: array([-0.23645906, -0.4227966 ]),\n 28: array([-0.25800798, -0.263928  ]),\n 29: array([ 0.0372772 , -0.71474738]),\n 30: array([ 0.18294646, -0.09901768]),\n 31: array([-0.16750713, -0.22151015]),\n 32: array([ 0.12736161, -0.38932479]),\n 33: array([ 0.04722668, -0.37157437])}"
     },
     "execution_count": 12,
     "metadata": {},
     "output_type": "execute_result"
    }
   ],
   "source": [
    "g = nx.karate_club_graph()\n",
    "nx.spring_layout(g)\n"
   ],
   "metadata": {
    "collapsed": false,
    "pycharm": {
     "name": "#%%\n"
    }
   }
  }
 ],
 "metadata": {
  "kernelspec": {
   "display_name": "Python 3",
   "language": "python",
   "name": "python3"
  },
  "language_info": {
   "codemirror_mode": {
    "name": "ipython",
    "version": 2
   },
   "file_extension": ".py",
   "mimetype": "text/x-python",
   "name": "python",
   "nbconvert_exporter": "python",
   "pygments_lexer": "ipython2",
   "version": "2.7.6"
  }
 },
 "nbformat": 4,
 "nbformat_minor": 0
}